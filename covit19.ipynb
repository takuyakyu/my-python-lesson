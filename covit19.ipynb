import pandas as pd

df = pd.read_excel("バイト代2023ver.xlsx")
df